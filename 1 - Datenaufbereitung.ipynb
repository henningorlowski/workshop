{
 "cells": [
  {
   "cell_type": "markdown",
   "id": "5be7136f",
   "metadata": {},
   "source": [
    "# Example: Categorical data processing "
   ]
  },
  {
   "cell_type": "code",
   "execution_count": 1,
   "id": "90b31de9",
   "metadata": {},
   "outputs": [
    {
     "name": "stdout",
     "output_type": "stream",
     "text": [
      "  category1 category2 category3\n",
      "0      duck     table     green\n",
      "1       fox      desk      blue\n",
      "2      duck      desk    yellow\n",
      "3       cat     table       red\n",
      "\n",
      "\n",
      "\n",
      "   category1_cat  category1_duck  category1_fox  category2_desk  \\\n",
      "0              0               1              0               0   \n",
      "1              0               0              1               1   \n",
      "2              0               1              0               1   \n",
      "3              1               0              0               0   \n",
      "\n",
      "   category2_table  category3_blue  category3_green  category3_red  \\\n",
      "0                1               0                1              0   \n",
      "1                0               1                0              0   \n",
      "2                0               0                0              0   \n",
      "3                1               0                0              1   \n",
      "\n",
      "   category3_yellow  \n",
      "0                 0  \n",
      "1                 0  \n",
      "2                 1  \n",
      "3                 0  \n"
     ]
    }
   ],
   "source": [
    "import pandas as pd\n",
    "\n",
    "# Create a list of text documents\n",
    "dataset_with_categories = [[\"duck\", \"table\", \"green\"], \n",
    "        [\"fox\", \"desk\", \"blue\"],\n",
    "        [\"duck\", \"desk\", \"yellow\"],\n",
    "        [\"cat\", \"table\", \"red\"]]\n",
    "\n",
    "df = pd.DataFrame(dataset_with_categories, columns=[\"category1\", \"category2\", \"category3\"])\n",
    "print(df)\n",
    "\n",
    "print(\"\\n\\n\")\n",
    "\n",
    "# OneHot Encode the categorical features within the Dataframe\n",
    "df = pd.get_dummies(df)\n",
    "\n",
    "# Show the result\n",
    "print(df)"
   ]
  },
  {
   "cell_type": "markdown",
   "id": "1f177738",
   "metadata": {},
   "source": [
    "# Example: Numerical data processing\n",
    "## MinMaxScaler"
   ]
  },
  {
   "cell_type": "code",
   "execution_count": 2,
   "id": "4f12ccf7",
   "metadata": {},
   "outputs": [
    {
     "name": "stdout",
     "output_type": "stream",
     "text": [
      "Output: [[0.   0.  ]\n",
      " [0.25 0.25]\n",
      " [0.5  0.5 ]\n",
      " [1.   1.  ]]\n"
     ]
    }
   ],
   "source": [
    "from sklearn.preprocessing import MinMaxScaler\n",
    "# X_std = (X - X.min(axis=0)) / (X.max(axis=0) - X.min(axis=0))\n",
    "# X_scaled = X_std * (max - min) + min\n",
    "\n",
    "# Create data\n",
    "data = [[-1, 2], \n",
    "        [-0.5, 6], \n",
    "        [0, 10], \n",
    "        [1, 18]]\n",
    "\n",
    "# Create scaler\n",
    "scaler = MinMaxScaler()\n",
    "\n",
    "# Fit the scaler to the feature data\n",
    "scaler.fit(data)\n",
    "\n",
    "# Transform the feature data\n",
    "print(f\"Output: {scaler.transform(data)}\")"
   ]
  },
  {
   "cell_type": "markdown",
   "id": "f7009ef7",
   "metadata": {},
   "source": [
    "## Pandas Style"
   ]
  },
  {
   "cell_type": "code",
   "execution_count": 3,
   "id": "a5080262",
   "metadata": {},
   "outputs": [
    {
     "name": "stdout",
     "output_type": "stream",
     "text": [
      "Output: [[0.   0.  ]\n",
      " [0.25 0.25]\n",
      " [0.5  0.5 ]\n",
      " [1.   1.  ]]\n"
     ]
    }
   ],
   "source": [
    "from sklearn.preprocessing import MinMaxScaler\n",
    "import pandas as pd\n",
    "\n",
    "# Create data\n",
    "data = [[-1, 2], [-0.5, 6], [0, 10], [1, 18]]\n",
    "\n",
    "# Create dataframe\n",
    "df = pd.DataFrame(data, columns=[\"feature1\", \"feature2\"])\n",
    "\n",
    "# Create scaler\n",
    "scaler = MinMaxScaler()\n",
    "# X_std = (X - X.min(axis=0)) / (X.max(axis=0) - X.min(axis=0))\n",
    "# X_scaled = X_std * (max - min) + min\n",
    "\n",
    "# Fit the scaler to the feature data\n",
    "scaler.fit(df)\n",
    "\n",
    "# Transform the feature data\n",
    "scaled_df = scaler.transform(df)\n",
    "\n",
    "print(f\"Output: {scaled_df}\")"
   ]
  },
  {
   "cell_type": "markdown",
   "id": "8bcab06a",
   "metadata": {},
   "source": [
    "## Mix of Categorical and Numerical Values"
   ]
  },
  {
   "cell_type": "code",
   "execution_count": 4,
   "id": "f962417f",
   "metadata": {},
   "outputs": [
    {
     "name": "stdout",
     "output_type": "stream",
     "text": [
      "Original Dataframe    feature1  feature2  feature3 category1 category2 category3\n",
      "0         1         2         3       dog       cat       fox\n",
      "1         4         5         6       dog      duck       fox\n",
      "2         7         8         9      duck      duck      duck\n",
      "\n",
      "\n",
      "\n",
      "One-Hot-Encoded Dataframe\n",
      "   feature1  feature2  feature3  category1_dog  category1_duck  category2_cat  \\\n",
      "0         1         2         3              1               0              1   \n",
      "1         4         5         6              1               0              0   \n",
      "2         7         8         9              0               1              0   \n",
      "\n",
      "   category2_duck  category3_duck  category3_fox  \n",
      "0               0               0              1  \n",
      "1               1               0              1  \n",
      "2               1               1              0  \n",
      "Final result: [[0.  0.  0.  1.  0.  1.  0.  0.  1. ]\n",
      " [0.5 0.5 0.5 1.  0.  0.  1.  0.  1. ]\n",
      " [1.  1.  1.  0.  1.  0.  1.  1.  0. ]]\n",
      "\n",
      "\n",
      "\n"
     ]
    }
   ],
   "source": [
    "# Create an example dataset with numerical and categorical data\n",
    "import pandas\n",
    "from sklearn.preprocessing import MinMaxScaler\n",
    "\n",
    "dataset = [[1, 2, 3, \"dog\", \"cat\", \"fox\"],\n",
    "        [4, 5, 6, \"dog\", \"duck\", \"fox\"],\n",
    "        [7, 8, 9, \"duck\", \"duck\", \"duck\"]]\n",
    "\n",
    "df = pandas.DataFrame(dataset, columns=[\"feature1\", \"feature2\", \"feature3\", \"category1\", \"category2\", \"category3\"])\n",
    "\n",
    "# Show the result\n",
    "print(f\"Original Dataframe {df}\\n\\n\\n\")\n",
    "\n",
    "# OneHot Encode the categorical features within the Dataframe\n",
    "df = pandas.get_dummies(df)\n",
    "\n",
    "# Show the result\n",
    "print(\"One-Hot-Encoded Dataframe\")\n",
    "print(df)\n",
    "\n",
    "# Scale the numerical features within the Dataframe\n",
    "scaler = MinMaxScaler()\n",
    "scaler.fit(df)\n",
    "scaled_df = scaler.transform(df)\n",
    "\n",
    "# Show the result\n",
    "print(f\"Final result: {scaled_df}\\n\\n\\n\")"
   ]
  },
  {
   "cell_type": "markdown",
   "id": "9c484d40",
   "metadata": {},
   "source": [
    "# Example: Text data processing"
   ]
  },
  {
   "cell_type": "code",
   "execution_count": 5,
   "id": "2093a84b",
   "metadata": {},
   "outputs": [
    {
     "name": "stdout",
     "output_type": "stream",
     "text": [
      "Vocabulary: {'quick': 4, 'brown': 0, 'fox': 2, 'lazy dog': 3, 'duck': 1}\n",
      "Vector Shape: (1, 5)\n",
      "Vocabulary: [[1 0 1 1 1]]\n",
      "Vectorized Output: [[1 0 1 1 1]\n",
      " [0 1 0 0 0]\n",
      " [0 1 1 0 0]]\n"
     ]
    }
   ],
   "source": [
    "# GIve me examples for Text data processing with sklearn. Show me the countVectorizer\n",
    "\n",
    "from sklearn.feature_extraction.text import CountVectorizer\n",
    "\n",
    "# Create a list of text documents\n",
    "text = [\"The quick brown fox jumped over the lazy dog.\", \"The duck filtered the water.\", \"The fox and the duck are friends.\"]\n",
    "\n",
    "# Create the transform\n",
    "# vectorizer = CountVectorizer(ngram_range=(1, 2), max_features=5)\n",
    "vectorizer = CountVectorizer(ngram_range=(1, 2), max_features=5, stop_words='english')\n",
    "\n",
    "# Tokenize and build vocab\n",
    "vectorizer.fit(text)\n",
    "\n",
    "# Summarize\n",
    "print(f\"Vocabulary: {vectorizer.vocabulary_}\")\n",
    "\n",
    "# Encode document\n",
    "vector = vectorizer.transform([text[0]])\n",
    "\n",
    "# Summarize encoded vector\n",
    "print(f\"Vector Shape: {vector.shape}\")\n",
    "\n",
    "# Show vectorized output\n",
    "print(f\"Vocabulary: {vector.toarray()}\")\n",
    "\n",
    "# Use the vectorizer to transform the text\n",
    "vector = vectorizer.transform(text)\n",
    "\n",
    "# Show vectorized output\n",
    "print(f\"Vectorized Output: {vector.toarray()}\")"
   ]
  },
  {
   "cell_type": "markdown",
   "id": "e9ad6d8b",
   "metadata": {},
   "source": [
    "# Combining Datasets with target values"
   ]
  },
  {
   "cell_type": "code",
   "execution_count": 6,
   "id": "e62e58f4",
   "metadata": {},
   "outputs": [
    {
     "name": "stdout",
     "output_type": "stream",
     "text": [
      "Original Dataframe:    feature1  feature2  feature3 category1 category2 category3  target\n",
      "0         1         2         3       dog       cat       fox       1\n",
      "1         4         5         6       dog      duck       fox       0\n",
      "2         7         8         9      duck      duck      duck       1\n",
      "\n",
      "\n",
      "\n",
      "Dataframe with OneHotEncoding and MinMaxScaling: [[0.  0.  0.  1.  1.  0.  1.  0.  0.  1. ]\n",
      " [0.5 0.5 0.5 0.  1.  0.  0.  1.  0.  1. ]\n",
      " [1.  1.  1.  1.  0.  1.  0.  1.  1.  0. ]]\n",
      "\n",
      "\n",
      "\n",
      "Features: [[0.  0.  0.  1.  1.  0.  1.  0.  0. ]\n",
      " [0.5 0.5 0.5 0.  1.  0.  0.  1.  0. ]\n",
      " [1.  1.  1.  1.  0.  1.  0.  1.  1. ]]\n",
      "\n",
      "\n",
      "\n",
      "Target: [1. 1. 0.]\n",
      "\n",
      "\n",
      "\n"
     ]
    }
   ],
   "source": [
    "import pandas as pd\n",
    "from sklearn.preprocessing import MinMaxScaler\n",
    "\n",
    "dataset = [[1, 2, 3, \"dog\", \"cat\", \"fox\", 1],\n",
    "        [4, 5, 6, \"dog\", \"duck\", \"fox\", 0],\n",
    "        [7, 8, 9, \"duck\", \"duck\", \"duck\", 1]]\n",
    "\n",
    "df = pd.DataFrame(dataset, columns=[\"feature1\", \"feature2\", \"feature3\", \"category1\", \"category2\", \"category3\", \"target\"])\n",
    "\n",
    "# Show the result\n",
    "print(f\"Original Dataframe: {df}\\n\\n\\n\")\n",
    "\n",
    "# OneHot Encode the categorical features within the Dataframe\n",
    "df = pd.get_dummies(df)\n",
    "\n",
    "# MinMax Scale the numerical features within the Dataframe\n",
    "scaler = MinMaxScaler()\n",
    "scaler.fit(df)\n",
    "scaled_df = scaler.transform(df)\n",
    "\n",
    "# Show the result\n",
    "print(f\"Dataframe with OneHotEncoding and MinMaxScaling: {scaled_df}\\n\\n\\n\")\n",
    "\n",
    "# Split the data into features and target\n",
    "features = scaled_df[:, 0:9]\n",
    "target = scaled_df[:, 9]\n",
    "\n",
    "# Show the result\n",
    "print(f\"Features: {features}\\n\\n\\n\")\n",
    "print(f\"Target: {target}\\n\\n\\n\")"
   ]
  },
  {
   "cell_type": "markdown",
   "id": "ca8053ba",
   "metadata": {},
   "source": [
    "# Identify unbalanced data for categorical targets"
   ]
  },
  {
   "cell_type": "code",
   "execution_count": 7,
   "id": "44929d57",
   "metadata": {},
   "outputs": [
    {
     "name": "stdout",
     "output_type": "stream",
     "text": [
      "Number of positive examples: 6\n",
      "Number of negative examples: 5\n"
     ]
    },
    {
     "data": {
      "image/png": "[encoded data removed]",
      "text/plain": [
       "<Figure size 640x480 with 1 Axes>"
      ]
     },
     "metadata": {},
     "output_type": "display_data"
    }
   ],
   "source": [
    "import pandas as pd\n",
    "import matplotlib.pyplot as plt\n",
    "\n",
    "large_dataset = [[1, 2, 3, \"dog\", \"cat\", \"fox\", 1],\n",
    "        [4, 5, 6, \"dog\", \"duck\", \"fox\", 0],\n",
    "        [7, 8, 9, \"duck\", \"duck\", \"duck\", 1],\n",
    "        [10, 11, 12, \"dog\", \"cat\", \"fox\", 0],\n",
    "        [13, 14, 15, \"dog\", \"duck\", \"fox\", 1],\n",
    "        [16, 17, 18, \"duck\", \"duck\", \"duck\", 0],\n",
    "        [19, 20, 21, \"dog\", \"cat\", \"fox\", 1],\n",
    "        [22, 23, 24, \"dog\", \"duck\", \"fox\", 0],\n",
    "        [25, 26, 27, \"duck\", \"duck\", \"duck\", 1],\n",
    "        [28, 29, 30, \"dog\", \"cat\", \"fox\", 0],\n",
    "        [31, 32, 33, \"dog\", \"duck\", \"fox\", 1]]\n",
    "\n",
    "# Create a Dataframe from the dataset\n",
    "df = pd.DataFrame(large_dataset, columns=[\"feature1\", \"feature2\", \"feature3\", \"category1\", \"category2\", \"category3\", \"target\"])\n",
    "\n",
    "# How to check if the dataset is unbalanced\n",
    "print(f\"Number of positive examples: {df[df['target'] == 1].shape[0]}\")\n",
    "print(f\"Number of negative examples: {df[df['target'] == 0].shape[0]}\")\n",
    "\n",
    "# Show the balance graphically\n",
    "df['target'].value_counts().plot(kind='bar', title='Count (target)')\n",
    "plt.show()"
   ]
  },
  {
   "cell_type": "markdown",
   "id": "69beb6fa",
   "metadata": {},
   "source": [
    "# Identify unbalanced data for numerical targets"
   ]
  },
  {
   "cell_type": "code",
   "execution_count": 8,
   "id": "c0eb1472",
   "metadata": {},
   "outputs": [
    {
     "data": {
      "image/png": "[encoded data removed]",
      "text/plain": [
       "<Figure size 640x480 with 1 Axes>"
      ]
     },
     "metadata": {},
     "output_type": "display_data"
    }
   ],
   "source": [
    "# Show the same example for regression target variable. Is is unbalanced?\n",
    "large_dataset = [[1, 2, 3, \"dog\", \"cat\", \"fox\", 354],\n",
    "        [4, 5, 6, \"dog\", \"duck\", \"fox\", -234],\n",
    "        [7, 8, 9, \"duck\", \"duck\", \"duck\", 112],\n",
    "        [10, 11, 12, \"dog\", \"cat\", \"fox\", 9],\n",
    "        [13, 14, 15, \"dog\", \"duck\", \"fox\", -5],\n",
    "        [16, 17, 18, \"duck\", \"duck\", \"duck\", 3],\n",
    "        [19, 20, 21, \"dog\", \"cat\", \"fox\", 2],\n",
    "        [22, 23, 24, \"dog\", \"duck\", \"fox\", 1],\n",
    "        [25, 26, 27, \"duck\", \"duck\", \"duck\", 0],\n",
    "        [28, 29, 30, \"dog\", \"cat\", \"fox\", 0],\n",
    "        [31, 32, 33, \"dog\", \"duck\", \"fox\", -1000],\n",
    "        [34, 35, 36, \"duck\", \"duck\", \"duck\", 1000]]\n",
    "\n",
    "# Create a Dataframe from the dataset\n",
    "df = pd.DataFrame(large_dataset, columns=[\"feature1\", \"feature2\", \"feature3\", \"category1\", \"category2\", \"category3\", \"target\"])\n",
    "\n",
    "# Show the balance graphically\n",
    "df['target'].plot(kind='hist', title='Count (target)')\n",
    "plt.show()"
   ]
  }
 ],
 "metadata": {
  "kernelspec": {
   "display_name": "Python 3 (ipykernel)",
   "language": "python",
   "name": "python3"
  },
  "language_info": {
   "codemirror_mode": {
    "name": "ipython",
    "version": 3
   },
   "file_extension": ".py",
   "mimetype": "text/x-python",
   "name": "python",
   "nbconvert_exporter": "python",
   "pygments_lexer": "ipython3",
   "version": "3.10.9"
  }
 },
 "nbformat": 4,
 "nbformat_minor": 5
}
