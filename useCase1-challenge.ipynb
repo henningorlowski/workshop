{
 "cells": [
  {
   "cell_type": "markdown",
   "id": "5e65b586",
   "metadata": {},
   "source": [
    "# Load the dataset"
   ]
  },
  {
   "cell_type": "code",
   "execution_count": 1,
   "id": "d418874d",
   "metadata": {},
   "outputs": [],
   "source": [
    "import requests\n",
    "import pandas as pd\n",
    "\n",
    "# Load the dataset\n",
    "url = \"https://raw.githubusercontent.com/jbrownlee/Datasets/master/pima-indians-diabetes.data.csv\"\n",
    "\n",
    "# Load the dataset\n",
    "dataset = requests.get(url).text\n",
    "\n",
    "# load it into a pandas dataframe\n",
    "dataset = pd.read_csv(url, header=None)\n",
    "\n",
    "# Set the columns names\n",
    "dataset.columns = [\"pregnant\", \"glucose\", \"bp\", \"skin\", \"insulin\", \"bmi\", \"pedigree\", \"age\", \"class\"]\n",
    "\n",
    "# Show the dataset\n",
    "print(dataset)"
   ]
  },
  {
   "cell_type": "markdown",
   "id": "b95bef65",
   "metadata": {},
   "source": [
    "# Do some exploratory analysis "
   ]
  },
  {
   "cell_type": "code",
   "execution_count": null,
   "id": "3dc57cec",
   "metadata": {},
   "outputs": [],
   "source": [
    "import matplotlib as plt\n",
    "\n",
    "\n"
   ]
  },
  {
   "cell_type": "code",
   "execution_count": null,
   "id": "eb81d9fa",
   "metadata": {},
   "outputs": [],
   "source": []
  },
  {
   "cell_type": "code",
   "execution_count": null,
   "id": "f73fe8ad",
   "metadata": {},
   "outputs": [],
   "source": []
  },
  {
   "cell_type": "markdown",
   "id": "e15c8d8c",
   "metadata": {},
   "source": [
    "# Balance dataset by undersampling the majority class"
   ]
  },
  {
   "cell_type": "code",
   "execution_count": null,
   "id": "0dec9b23",
   "metadata": {},
   "outputs": [],
   "source": []
  },
  {
   "cell_type": "markdown",
   "id": "e795dead",
   "metadata": {},
   "source": [
    "# Split the Dataset into Features and Target"
   ]
  },
  {
   "cell_type": "code",
   "execution_count": null,
   "id": "c7490259",
   "metadata": {},
   "outputs": [],
   "source": []
  },
  {
   "cell_type": "markdown",
   "id": "6756dabf",
   "metadata": {},
   "source": [
    "# MinMax Scale the Dataframe"
   ]
  },
  {
   "cell_type": "code",
   "execution_count": null,
   "id": "f5dd0d2f",
   "metadata": {},
   "outputs": [],
   "source": [
    "from sklearn.preprocessing import MinMaxScaler\n",
    "\n"
   ]
  },
  {
   "cell_type": "markdown",
   "id": "0dd2771d",
   "metadata": {},
   "source": [
    "# Split the Dataset into training and test data"
   ]
  },
  {
   "cell_type": "code",
   "execution_count": null,
   "id": "ebfa723c",
   "metadata": {},
   "outputs": [],
   "source": [
    "from sklearn.model_selection import train_test_split\n",
    "\n",
    "import keras\n",
    "from keras.models import Sequential\n",
    "from keras.layers import Dense\n",
    "\n",
    "model = Sequential()\n"
   ]
  },
  {
   "cell_type": "markdown",
   "id": "ba83833e",
   "metadata": {},
   "source": [
    "# Split the Training data into training and validation data"
   ]
  },
  {
   "cell_type": "code",
   "execution_count": null,
   "id": "36e27e32",
   "metadata": {},
   "outputs": [],
   "source": []
  },
  {
   "cell_type": "markdown",
   "id": "11db2f48",
   "metadata": {},
   "source": [
    "# Build a neural net"
   ]
  },
  {
   "cell_type": "code",
   "execution_count": null,
   "id": "83113623",
   "metadata": {},
   "outputs": [],
   "source": [
    "from keras.callbacks import ModelCheckpoint\n",
    "\n",
    "# Your job\n",
    "\n",
    "\n",
    "# Compile the model\n",
    "model.compile(loss=\"binary_crossentropy\", optimizer=\"adam\", metrics=[\"accuracy\"])\n",
    "\n",
    "model.summary()"
   ]
  },
  {
   "cell_type": "markdown",
   "id": "ff332e57",
   "metadata": {},
   "source": [
    "# Train the neural net"
   ]
  },
  {
   "cell_type": "code",
   "execution_count": null,
   "id": "162176c0",
   "metadata": {},
   "outputs": [],
   "source": [
    "history = model.fit(features_train, target_train, epochs=150, batch_size=10, validation_data=(features_val, target_val))"
   ]
  },
  {
   "cell_type": "markdown",
   "id": "ba097090",
   "metadata": {},
   "source": [
    "# Plot the Training History"
   ]
  },
  {
   "cell_type": "code",
   "execution_count": null,
   "id": "167961bb",
   "metadata": {},
   "outputs": [],
   "source": [
    "import matplotlib.pyplot as plt\n"
   ]
  },
  {
   "cell_type": "markdown",
   "id": "d1c17c03",
   "metadata": {},
   "source": [
    "# Test the models performance on the test dataset"
   ]
  },
  {
   "cell_type": "code",
   "execution_count": null,
   "id": "fd5fbe4d",
   "metadata": {},
   "outputs": [],
   "source": [
    "from sklearn.metrics import accuracy_score, confusion_matrix"
   ]
  },
  {
   "cell_type": "markdown",
   "id": "db3d68d7",
   "metadata": {},
   "source": [
    "# Predict a new example patient"
   ]
  },
  {
   "cell_type": "code",
   "execution_count": null,
   "id": "c31021a7",
   "metadata": {},
   "outputs": [],
   "source": []
  }
 ],
 "metadata": {
  "kernelspec": {
   "display_name": "Python 3 (ipykernel)",
   "language": "python",
   "name": "python3"
  },
  "language_info": {
   "codemirror_mode": {
    "name": "ipython",
    "version": 3
   },
   "file_extension": ".py",
   "mimetype": "text/x-python",
   "name": "python",
   "nbconvert_exporter": "python",
   "pygments_lexer": "ipython3",
   "version": "3.10.9"
  }
 },
 "nbformat": 4,
 "nbformat_minor": 5
}
