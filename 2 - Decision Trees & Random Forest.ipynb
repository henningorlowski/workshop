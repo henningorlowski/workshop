{
 "cells": [
  {
   "cell_type": "markdown",
   "id": "a9841119",
   "metadata": {},
   "source": [
    "# Load dataset"
   ]
  },
  {
   "cell_type": "code",
   "execution_count": 1,
   "id": "df6df609",
   "metadata": {},
   "outputs": [
    {
     "name": "stdout",
     "output_type": "stream",
     "text": [
      "     pregnant  glucose  bp  skin  insulin   bmi  pedigree  age  class\n",
      "0           6      148  72    35        0  33.6     0.627   50      1\n",
      "1           1       85  66    29        0  26.6     0.351   31      0\n",
      "2           8      183  64     0        0  23.3     0.672   32      1\n",
      "3           1       89  66    23       94  28.1     0.167   21      0\n",
      "4           0      137  40    35      168  43.1     2.288   33      1\n",
      "..        ...      ...  ..   ...      ...   ...       ...  ...    ...\n",
      "763        10      101  76    48      180  32.9     0.171   63      0\n",
      "764         2      122  70    27        0  36.8     0.340   27      0\n",
      "765         5      121  72    23      112  26.2     0.245   30      0\n",
      "766         1      126  60     0        0  30.1     0.349   47      1\n",
      "767         1       93  70    31        0  30.4     0.315   23      0\n",
      "\n",
      "[768 rows x 9 columns]\n"
     ]
    }
   ],
   "source": [
    "import requests\n",
    "import pandas as pd\n",
    "\n",
    "# Load the dataset\n",
    "url = \"https://raw.githubusercontent.com/jbrownlee/Datasets/master/pima-indians-diabetes.data.csv\"\n",
    "\n",
    "# Load the dataset\n",
    "dataset = requests.get(url).text\n",
    "\n",
    "# load it into a pandas dataframe\n",
    "dataset = pd.read_csv(url, header=None)\n",
    "\n",
    "# Set the columns names\n",
    "dataset.columns = [\"pregnant\", \"glucose\", \"bp\", \"skin\", \"insulin\", \"bmi\", \"pedigree\", \"age\", \"class\"]\n",
    "\n",
    "# Show the dataset\n",
    "print(dataset)"
   ]
  },
  {
   "cell_type": "markdown",
   "id": "1c6a4e4a",
   "metadata": {},
   "source": [
    "# Create Decision Tree"
   ]
  },
  {
   "cell_type": "code",
   "execution_count": 2,
   "id": "22ee8a53",
   "metadata": {},
   "outputs": [
    {
     "name": "stdout",
     "output_type": "stream",
     "text": [
      "Training accuracy: 0.7719869706840391\n",
      "Testing accuracy: 0.7987012987012987\n",
      "\n",
      "\n",
      "    feature  importance\n",
      "1   glucose    0.625810\n",
      "5       bmi    0.266582\n",
      "7       age    0.107608\n",
      "0  pregnant    0.000000\n",
      "2        bp    0.000000\n",
      "3      skin    0.000000\n",
      "4   insulin    0.000000\n",
      "6  pedigree    0.000000\n"
     ]
    }
   ],
   "source": [
    "# Import the DecisionTreeClassifier\n",
    "from sklearn.tree import DecisionTreeClassifier\n",
    "# Import the train_test_split function\n",
    "from sklearn.model_selection import train_test_split\n",
    "# Import the accuracy_score function\n",
    "from sklearn.metrics import accuracy_score\n",
    "\n",
    "# Split the dataset into features and target\n",
    "features = dataset.iloc[:, 0:8]\n",
    "target = dataset.iloc[:, 8]\n",
    "\n",
    "# Split the dataset into training, validation and testing data\n",
    "features_train, features_test, target_train, target_test = train_test_split(features, target, test_size=0.2, random_state=1)\n",
    "\n",
    "# Create the classifier with all parameters set explicitly\n",
    "classifier = DecisionTreeClassifier(criterion=\"entropy\", max_depth=3, random_state=1)\n",
    "\n",
    "# Train the classifier\n",
    "classifier.fit(features_train, target_train)\n",
    "\n",
    "# Predict the target values for the test data\n",
    "target_predicted = classifier.predict(features_test)\n",
    "\n",
    "# Show the accuracy score\n",
    "print(f\"Training accuracy: {classifier.score(features_train, target_train)}\")\n",
    "print(f\"Testing accuracy: {classifier.score(features_test, target_test)}\")\n",
    "\n",
    "print(\"\\n\")\n",
    "\n",
    "# Show the feature importance with the Feature Names from the dataset\n",
    "temp_df = pd.DataFrame({\"feature\": list(features.columns), \"importance\": classifier.feature_importances_})\n",
    "temp_df.sort_values(by=[\"importance\"], ascending=False, inplace=True)\n",
    "print(temp_df)"
   ]
  },
  {
   "cell_type": "markdown",
   "id": "d4fc31d2",
   "metadata": {},
   "source": [
    "# Show Decision Tree rules"
   ]
  },
  {
   "cell_type": "code",
   "execution_count": 3,
   "id": "e32f510b",
   "metadata": {
    "scrolled": true
   },
   "outputs": [
    {
     "name": "stdout",
     "output_type": "stream",
     "text": [
      "|--- glucose <= 127.50\n",
      "|   |--- bmi <= 26.45\n",
      "|   |   |--- bmi <= 9.10\n",
      "|   |   |   |--- class: 0\n",
      "|   |   |--- bmi >  9.10\n",
      "|   |   |   |--- class: 0\n",
      "|   |--- bmi >  26.45\n",
      "|   |   |--- age <= 28.50\n",
      "|   |   |   |--- class: 0\n",
      "|   |   |--- age >  28.50\n",
      "|   |   |   |--- class: 0\n",
      "|--- glucose >  127.50\n",
      "|   |--- glucose <= 166.50\n",
      "|   |   |--- bmi <= 29.95\n",
      "|   |   |   |--- class: 0\n",
      "|   |   |--- bmi >  29.95\n",
      "|   |   |   |--- class: 1\n",
      "|   |--- glucose >  166.50\n",
      "|   |   |--- glucose <= 172.50\n",
      "|   |   |   |--- class: 1\n",
      "|   |   |--- glucose >  172.50\n",
      "|   |   |   |--- class: 1\n",
      "\n"
     ]
    }
   ],
   "source": [
    "from sklearn.tree import export_text\n",
    "\n",
    "print(export_text(classifier, feature_names=list(features.columns)))"
   ]
  },
  {
   "cell_type": "markdown",
   "id": "047f5941",
   "metadata": {},
   "source": [
    "# Create a Random Forest and train it on the Dataset"
   ]
  },
  {
   "cell_type": "code",
   "execution_count": 4,
   "id": "25d2c510",
   "metadata": {},
   "outputs": [
    {
     "name": "stdout",
     "output_type": "stream",
     "text": [
      "Training accuracy: 0.7801302931596091\n",
      "Testing accuracy: 0.7662337662337663\n",
      "\n",
      "\n",
      "    feature  importance\n",
      "1   glucose    0.444176\n",
      "5       bmi    0.262785\n",
      "7       age    0.111630\n",
      "6  pedigree    0.069282\n",
      "0  pregnant    0.065009\n",
      "3      skin    0.027660\n",
      "4   insulin    0.019457\n",
      "2        bp    0.000000\n"
     ]
    }
   ],
   "source": [
    "from sklearn.ensemble import RandomForestClassifier\n",
    "\n",
    "# Create the classifier with all parameters set explicitly\n",
    "classifier = RandomForestClassifier(criterion=\"entropy\", max_depth=3, random_state=1, bootstrap=True, n_estimators=4)\n",
    "\n",
    "# Train the classifier\n",
    "classifier.fit(features_train, target_train)\n",
    "\n",
    "# Predict the target values for the test data\n",
    "target_predicted = classifier.predict(features_test)\n",
    "\n",
    "# Show the accuracy score\n",
    "print(f\"Training accuracy: {classifier.score(features_train, target_train)}\")\n",
    "print(f\"Testing accuracy: {classifier.score(features_test, target_test)}\")\n",
    "\n",
    "print(\"\\n\")\n",
    "\n",
    "# Show the feature importance with the Feature Names from the dataset\n",
    "temp_df = pd.DataFrame({\"feature\": list(features.columns), \"importance\": classifier.feature_importances_})\n",
    "temp_df.sort_values(by=[\"importance\"], ascending=False, inplace=True)\n",
    "print(temp_df)"
   ]
  },
  {
   "cell_type": "code",
   "execution_count": 5,
   "id": "25b0ede7",
   "metadata": {
    "scrolled": true
   },
   "outputs": [
    {
     "data": {
      "image/png": "[encoded data removed]",
      "text/plain": [
       "<Figure size 1000x500 with 1 Axes>"
      ]
     },
     "metadata": {},
     "output_type": "display_data"
    }
   ],
   "source": [
    "import matplotlib.pyplot as plt\n",
    "\n",
    "plt.figure(figsize=(10, 5))\n",
    "plt.hist(dataset[\"class\"], bins=2, color=\"black\", edgecolor=\"black\")\n",
    "# Show the class names\n",
    "plt.xticks([0, 1], [\"Negative\", \"Positive\"])\n",
    "plt.title(\"Distribution of the target values\")\n",
    "plt.xlabel(\"Target value\")\n",
    "plt.ylabel(\"Count\")\n",
    "plt.show()"
   ]
  },
  {
   "cell_type": "markdown",
   "id": "1d1c1703",
   "metadata": {},
   "source": [
    "# Balance the datasets"
   ]
  },
  {
   "cell_type": "code",
   "execution_count": 6,
   "id": "c6c2a16e",
   "metadata": {
    "scrolled": true
   },
   "outputs": [
    {
     "data": {
      "image/png": "[encoded data removed]",
      "text/plain": [
       "<Figure size 1000x500 with 1 Axes>"
      ]
     },
     "metadata": {},
     "output_type": "display_data"
    }
   ],
   "source": [
    "# Sort the dataset for the class column\n",
    "dataset.sort_values(by=[\"class\"], inplace=True)\n",
    "\n",
    "# Get the indices of the negative samples\n",
    "negative_indices = dataset[dataset[\"class\"] == 0].index\n",
    "# Get the indices of the positive samples\n",
    "positive_indices = dataset[dataset[\"class\"] == 1].index\n",
    "\n",
    "# Get the number of negative samples\n",
    "negative_count = len(negative_indices)\n",
    "# Get the number of positive samples\n",
    "positive_count = len(positive_indices)\n",
    "\n",
    "# Get the number of samples to remove\n",
    "samples_to_remove = negative_count - positive_count\n",
    "\n",
    "# Remove the samples\n",
    "dataset.drop(negative_indices[:samples_to_remove], inplace=True)\n",
    "\n",
    "# Shuffle the samples evenly for the class\n",
    "dataset = dataset.sample(frac=1, random_state=1)\n",
    "\n",
    "# Show the distribution of the target values. Write a description for all Axis and Values\n",
    "plt.figure(figsize=(10, 5))\n",
    "# With two colors for each class\n",
    "plt.hist(dataset[\"class\"], color=\"green\", edgecolor=\"black\", bins=2)\n",
    "# Show the class names\n",
    "plt.xticks([0, 1], [\"Negative\", \"Positive\"])\n",
    "plt.title(\"Distribution of the target values\")\n",
    "plt.xlabel(\"Target value\")\n",
    "plt.ylabel(\"Count\")\n",
    "plt.show()\n"
   ]
  },
  {
   "cell_type": "markdown",
   "id": "236181a9",
   "metadata": {},
   "source": [
    "# Retry the Random Forest Classifier with the balanced dataset"
   ]
  },
  {
   "cell_type": "code",
   "execution_count": 7,
   "id": "d1a2b4d9",
   "metadata": {},
   "outputs": [
    {
     "name": "stdout",
     "output_type": "stream",
     "text": [
      "Training accuracy: 0.7663551401869159\n",
      "Testing accuracy: 0.6851851851851852\n"
     ]
    }
   ],
   "source": [
    "# Split the dataset into features and target\n",
    "features = dataset.iloc[:, 0:8]\n",
    "target = dataset.iloc[:, 8]\n",
    "\n",
    "# Split the dataset into training, validation and testing data\n",
    "features_train, features_test, target_train, target_test = train_test_split(features, target, test_size=0.2, random_state=1)\n",
    "\n",
    "# Create the classifier with all parameters set explicitly. Set the sampling method to \"bootstrap\" and the number of trees to 100\n",
    "classifier = RandomForestClassifier(criterion=\"entropy\", max_depth=3, random_state=1, bootstrap=True, n_estimators=3)\n",
    "\n",
    "# Train the classifier\n",
    "classifier.fit(features_train, target_train)\n",
    "\n",
    "# Predict the target values for the test data\n",
    "target_predicted = classifier.predict(features_test)\n",
    "\n",
    "# Show the accuracy score for training and testing data\n",
    "print(f\"Training accuracy: {classifier.score(features_train, target_train)}\")\n",
    "print(f\"Testing accuracy: {classifier.score(features_test, target_test)}\")"
   ]
  },
  {
   "cell_type": "markdown",
   "id": "5ebdfa68",
   "metadata": {},
   "source": [
    "# Save the model"
   ]
  },
  {
   "cell_type": "code",
   "execution_count": 8,
   "id": "dd03849b",
   "metadata": {},
   "outputs": [],
   "source": [
    "import pickle\n",
    "\n",
    "# Save the model to a file\n",
    "with open(\"model.pkl\", \"wb\") as file:\n",
    "    pickle.dump(classifier, file)\n",
    "\n",
    "# Load the model from a file\n",
    "with open(\"model.pkl\", \"rb\") as file:\n",
    "    classifier = pickle.load(file)"
   ]
  }
 ],
 "metadata": {
  "kernelspec": {
   "display_name": "Python 3 (ipykernel)",
   "language": "python",
   "name": "python3"
  },
  "language_info": {
   "codemirror_mode": {
    "name": "ipython",
    "version": 3
   },
   "file_extension": ".py",
   "mimetype": "text/x-python",
   "name": "python",
   "nbconvert_exporter": "python",
   "pygments_lexer": "ipython3",
   "version": "3.10.9"
  }
 },
 "nbformat": 4,
 "nbformat_minor": 5
}
