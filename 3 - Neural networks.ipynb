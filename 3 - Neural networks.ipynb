{
 "cells": [
  {
   "cell_type": "markdown",
   "id": "b1f8c29f",
   "metadata": {},
   "source": [
    "# Import the dataset"
   ]
  },
  {
   "cell_type": "code",
   "execution_count": null,
   "id": "f6a8ae49",
   "metadata": {},
   "outputs": [],
   "source": [
    "import requests\n",
    "import pandas as pd\n",
    "\n",
    "# Load the dataset from example8.py\n",
    "url = \"https://raw.githubusercontent.com/jbrownlee/Datasets/master/pima-indians-diabetes.data.csv\"\n",
    "dataset = requests.get(url).text\n",
    "\n",
    "# load it into a pandas dataframe\n",
    "dataset = pd.read_csv(url, header=None)\n",
    "\n",
    "# Add the column names\n",
    "dataset.columns = [\"pregnant\", \"glucose\", \"bp\", \"skin\", \"insulin\", \"bmi\", \"pedigree\", \"age\", \"class\"]\n",
    "\n",
    "# Show the dataset\n",
    "print(dataset)"
   ]
  },
  {
   "cell_type": "markdown",
   "id": "979f59a0",
   "metadata": {},
   "source": [
    "# Pre-process dataset for the neural net"
   ]
  },
  {
   "cell_type": "code",
   "execution_count": null,
   "id": "10121589",
   "metadata": {
    "scrolled": true
   },
   "outputs": [],
   "source": [
    "from sklearn.preprocessing import MinMaxScaler\n",
    "\n",
    "# Use the MinMaxScaler to scale the dataset\n",
    "scaler = MinMaxScaler()\n",
    "\n",
    "# Fit the scaler to the dataset\n",
    "scaler.fit(dataset)\n",
    "\n",
    "# Transform the dataset\n",
    "scaled_dataset = scaler.transform(dataset)\n",
    "\n",
    "# Show the scaled dataset\n",
    "print(scaled_dataset)"
   ]
  },
  {
   "cell_type": "markdown",
   "id": "a1e3a6e9",
   "metadata": {},
   "source": [
    "# Split the data "
   ]
  },
  {
   "cell_type": "code",
   "execution_count": null,
   "id": "149304c4",
   "metadata": {
    "scrolled": true
   },
   "outputs": [],
   "source": [
    "from sklearn.model_selection import train_test_split\n",
    "\n",
    "# Split the dataset into features and target\n",
    "features = dataset.iloc[:, 0:8]\n",
    "target = dataset.iloc[:, 8]\n",
    "\n",
    "# Split the dataset into training and testing data\n",
    "features_train, features_test, target_train, target_test = train_test_split(features, target, test_size=0.4, random_state=1)\n",
    "\n",
    "print(f\"Size of Training Data: {len(features_train)}\")\n",
    "print(f\"Size of Testing Data: {len(features_test)}\")\n",
    "\n",
    "print(f\"Size in Percent for Training Data: {len(features_train) / (len(features_train) + len(features_test)) * 100}%\")\n",
    "print(f\"Size in Percent for Testing Data: {len(features_test) / (len(features_train) + len(features_test)) * 100}%\")\n",
    "\n",
    "# Split the training data into training and validation data\n",
    "features_train, features_val, target_train, target_val = train_test_split(features_train, target_train, test_size=0.2, random_state=1)"
   ]
  },
  {
   "cell_type": "markdown",
   "id": "3a5d2c7d",
   "metadata": {},
   "source": [
    "# Create a neural net"
   ]
  },
  {
   "cell_type": "code",
   "execution_count": null,
   "id": "6fab1eaf",
   "metadata": {},
   "outputs": [],
   "source": [
    "import keras\n",
    "from keras.models import Sequential\n",
    "from keras.layers import Dense\n",
    "\n",
    "# Create the model\n",
    "model = Sequential()\n",
    "\n",
    "# Add the input layer\n",
    "model.add(Dense(12, input_dim=8, activation=\"relu\"))\n",
    "\n",
    "# Add the hidden layer\n",
    "model.add(Dense(8, activation=\"relu\"))\n",
    "\n",
    "# Add the output layer\n",
    "model.add(Dense(1, activation=\"sigmoid\"))\n",
    "\n",
    "# Compile the model\n",
    "model.compile(loss=\"binary_crossentropy\", optimizer=\"adam\", metrics=[\"accuracy\"])\n",
    "\n",
    "# Train the model\n",
    "#history = model.fit(features_train, target_train, epochs=15, batch_size=10, validation_data=(features_val, target_val), callbacks=[keras.callbacks.EarlyStopping(monitor=\"val_accuracy\", patience=250, restore_best_weights=True)])\n",
    "history = model.fit(features_train, target_train, epochs=150, batch_size=10, validation_data=(features_val, target_val))"
   ]
  },
  {
   "cell_type": "markdown",
   "id": "c9e16156",
   "metadata": {},
   "source": [
    "# Evaluation"
   ]
  },
  {
   "cell_type": "code",
   "execution_count": null,
   "id": "bed1766a",
   "metadata": {},
   "outputs": [],
   "source": [
    "# Evaluate the model\n",
    "scores = model.evaluate(features_test, target_test)\n",
    "print(f\"{model.metrics_names[1]}: {scores[1] * 100}%\")"
   ]
  },
  {
   "cell_type": "markdown",
   "id": "c84e864a",
   "metadata": {},
   "source": [
    "# Training History"
   ]
  },
  {
   "cell_type": "code",
   "execution_count": null,
   "id": "3ff3be21",
   "metadata": {
    "scrolled": true
   },
   "outputs": [],
   "source": [
    "import matplotlib.pyplot as plt\n",
    "\n",
    "# Show the Training History for the Training and Validation Data\n",
    "plt.plot(history.history[\"accuracy\"])\n",
    "plt.plot(history.history[\"val_accuracy\"])\n",
    "plt.title(\"Model Accuracy\")\n",
    "plt.ylabel(\"Accuracy\")\n",
    "plt.xlabel(\"Epoch\")\n",
    "plt.legend([\"Train\", \"Validation\"], loc=\"upper left\")\n",
    "plt.show()"
   ]
  },
  {
   "cell_type": "markdown",
   "id": "2b0d71ed",
   "metadata": {},
   "source": [
    "# Small Backtest"
   ]
  },
  {
   "cell_type": "code",
   "execution_count": null,
   "id": "da55625a",
   "metadata": {
    "scrolled": true
   },
   "outputs": [],
   "source": [
    "# Now we can use the model to predict the class of a new patient\n",
    "# Create a new patient\n",
    "new_patient = [[6, 11, 72, 35, 0, 36, 627, 50, 1]]\n",
    "# Load as a dataframe\n",
    "new_patient = pd.DataFrame(new_patient)\n",
    "# Use the column names\n",
    "new_patient.columns = [\"pregnant\", \"glucose\", \"bp\", \"skin\", \"insulin\", \"bmi\", \"pedigree\", \"age\", \"class\"]\n",
    "print(f\"Unscaled new_patient {new_patient}\\n\")\n",
    "\n",
    "# Scale the new patient\n",
    "new_patient = scaler.transform(new_patient)\n",
    "print(f\"Scaled new_patient{new_patient}\\n\")\n",
    "\n",
    "# Drop the target column\n",
    "# Drop one dataframe column and save it as a new dataframe\n",
    "new_patient = new_patient[:, 0:8]\n",
    "\n",
    "# Predict the class of the new patient\n",
    "prediction = model.predict(new_patient)\n",
    "print(f\"\\nPure Prediction: {prediction}\\n\")\n",
    "\n",
    "# Translate the prediction into the binary classification of the patien to be either diabetic or not\n",
    "if prediction > 0.5:\n",
    "    prediction = \"Diabetic\"\n",
    "else:\n",
    "    prediction = \"Not Diabetic\"\n",
    "\n",
    "print(f\"Human readable Prediction: {prediction}\")"
   ]
  },
  {
   "cell_type": "code",
   "execution_count": null,
   "id": "23ffe74d",
   "metadata": {},
   "outputs": [],
   "source": []
  }
 ],
 "metadata": {
  "kernelspec": {
   "display_name": "Python 3 (ipykernel)",
   "language": "python",
   "name": "python3"
  },
  "language_info": {
   "codemirror_mode": {
    "name": "ipython",
    "version": 3
   },
   "file_extension": ".py",
   "mimetype": "text/x-python",
   "name": "python",
   "nbconvert_exporter": "python",
   "pygments_lexer": "ipython3",
   "version": "3.10.9"
  }
 },
 "nbformat": 4,
 "nbformat_minor": 5
}
